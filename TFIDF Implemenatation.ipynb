{
 "cells": [
  {
   "cell_type": "code",
   "execution_count": 1,
   "id": "e50a9989-725a-4f26-b031-3232007e830d",
   "metadata": {},
   "outputs": [
    {
     "name": "stdout",
     "output_type": "stream",
     "text": [
      "TF-IDF Scores:\n",
      "   advancing  algorithms  artificial      can      data     field     from  \\\n",
      "0   0.000000    0.000000    0.372024  0.00000  0.000000  0.372024  0.00000   \n",
      "1   0.000000    0.405801    0.000000  0.00000  0.000000  0.000000  0.00000   \n",
      "2   0.000000    0.388988    0.000000  0.48214  0.388988  0.000000  0.48214   \n",
      "3   0.000000    0.000000    0.000000  0.00000  0.416607  0.416607  0.00000   \n",
      "4   0.516374    0.000000    0.416607  0.00000  0.000000  0.000000  0.00000   \n",
      "\n",
      "   intelligence  involves        is    learn  learning   machine  \\\n",
      "0      0.372024   0.00000  0.308813  0.00000  0.372024  0.372024   \n",
      "1      0.000000   0.50298  0.000000  0.00000  0.405801  0.405801   \n",
      "2      0.000000   0.00000  0.000000  0.48214  0.000000  0.000000   \n",
      "3      0.000000   0.00000  0.345822  0.00000  0.000000  0.000000   \n",
      "4      0.416607   0.00000  0.345822  0.00000  0.000000  0.000000   \n",
      "\n",
      "   multidisciplinary        of   rapidly   science  training  \n",
      "0           0.000000  0.461114  0.000000  0.000000   0.00000  \n",
      "1           0.000000  0.000000  0.000000  0.000000   0.50298  \n",
      "2           0.000000  0.000000  0.000000  0.000000   0.00000  \n",
      "3           0.516374  0.000000  0.000000  0.516374   0.00000  \n",
      "4           0.000000  0.000000  0.516374  0.000000   0.00000  \n"
     ]
    }
   ],
   "source": [
    "from sklearn.feature_extraction.text import TfidfVectorizer\n",
    "import pandas as pd\n",
    "\n",
    "documents = [\n",
    "    \"Machine learning is a field of artificial intelligence.\",\n",
    "    \"Machine learning involves training algorithms.\",\n",
    "    \"Algorithms can learn from data.\",\n",
    "    \"Data science is a multidisciplinary field.\",\n",
    "    \"Artificial intelligence is advancing rapidly.\"\n",
    "]\n",
    "\n",
    "tfidf_vectorizer = TfidfVectorizer()\n",
    "tfidf_matrix = tfidf_vectorizer.fit_transform(documents)\n",
    "tfidf_df = pd.DataFrame(tfidf_matrix.toarray(), columns=tfidf_vectorizer.get_feature_names_out())\n",
    "print(\"TF-IDF Scores:\")\n",
    "print(tfidf_df)"
   ]
  },
  {
   "cell_type": "code",
   "execution_count": 2,
   "id": "f64ed9aa-9dc9-432b-813c-76a8dda94bd0",
   "metadata": {},
   "outputs": [
    {
     "name": "stdout",
     "output_type": "stream",
     "text": [
      "TF-IDF Scores:\n",
      "        boy      girl      good\n",
      "0  0.789807  0.000000  0.613356\n",
      "1  0.000000  0.789807  0.613356\n",
      "2  0.619805  0.619805  0.481334\n"
     ]
    }
   ],
   "source": [
    "new_doc = [\n",
    "    \"good boy\",\n",
    "    \"good girl\",\n",
    "    \"boy girl good\"\n",
    "]\n",
    "\n",
    "new_mat = tfidf_vectorizer.fit_transform(new_doc)\n",
    "new_df = pd.DataFrame(new_mat.toarray(), columns=tfidf_vectorizer.get_feature_names_out())\n",
    "print(\"TF-IDF Scores:\")\n",
    "print(new_df)"
   ]
  },
  {
   "cell_type": "code",
   "execution_count": null,
   "id": "e584b136-aa71-4f29-addb-0e912a6ebe8a",
   "metadata": {},
   "outputs": [],
   "source": []
  }
 ],
 "metadata": {
  "kernelspec": {
   "display_name": "Python 3 (ipykernel)",
   "language": "python",
   "name": "python3"
  },
  "language_info": {
   "codemirror_mode": {
    "name": "ipython",
    "version": 3
   },
   "file_extension": ".py",
   "mimetype": "text/x-python",
   "name": "python",
   "nbconvert_exporter": "python",
   "pygments_lexer": "ipython3",
   "version": "3.11.4"
  }
 },
 "nbformat": 4,
 "nbformat_minor": 5
}
