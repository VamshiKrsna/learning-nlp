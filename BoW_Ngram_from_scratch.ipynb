{
 "cells": [
  {
   "cell_type": "markdown",
   "metadata": {},
   "source": [
    "# Bag Of Words"
   ]
  },
  {
   "cell_type": "code",
   "execution_count": null,
   "metadata": {},
   "outputs": [],
   "source": [
    "import numpy as np\n",
    "import re \n",
    "\n",
    "class BagOfWords:\n",
    "    def __init__(self):\n",
    "        self.vocab = {}\n",
    "\n",
    "    def tokenize(self,text):\n",
    "        text = re.sub(r\"[^\\w\\s]\", text.lower())\n",
    "        return text.split()\n",
    "\n",
    "    def fit(self,corpus):\n",
    "        idx = 0\n",
    "        for sentence in corpus:\n",
    "            for word in self.tokenize(sentence):\n",
    "                if word not in self.vocab:\n",
    "                    self.vocab[word] = idx\n",
    "                    idx += 1\n",
    "    \n",
    "    def transform(self,corpus):\n",
    "        bow_matrix = np.zeroes((len(corpus),len(self.vocab)),dtype = int)\n",
    "        for i, sentence in enumerate(corpus):\n",
    "            for word in self.tokenize(sentence):\n",
    "                if word in self.vocab:\n",
    "                    bow_matrix[i,self.vocab[word]] += 1\n",
    "        return bow_matrix\n",
    "    \n",
    "    def fit_transform(self,corpus):\n",
    "        self.fit(corpus)\n",
    "        return self.transform(corpus)\n",
    "    \n",
    "\n",
    "# Example : \n",
    "corpus = [\n",
    "    \"He is a good boy\",\n",
    "    \"She is a good girl\",\n",
    "    \"Boy and girl are good\"\n",
    "]\n",
    "\n",
    "bow = BagOfWords()\n",
    "bow_matrix = bow.fit_transform(corpus)\n",
    "\n",
    "print(\"Vocabulary : \", bow.vocab)\n",
    "print(\"Bag Of Words Matrix : \\n\", bow_matrix)"
   ]
  },
  {
   "cell_type": "code",
   "execution_count": null,
   "metadata": {},
   "outputs": [],
   "source": []
  },
  {
   "cell_type": "code",
   "execution_count": null,
   "metadata": {},
   "outputs": [],
   "source": []
  }
 ],
 "metadata": {
  "kernelspec": {
   "display_name": "Python 3",
   "language": "python",
   "name": "python3"
  },
  "language_info": {
   "name": "python",
   "version": "3.11.4"
  }
 },
 "nbformat": 4,
 "nbformat_minor": 2
}
